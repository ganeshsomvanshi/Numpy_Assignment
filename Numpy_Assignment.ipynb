{
 "cells": [
  {
   "cell_type": "markdown",
   "id": "14d4dda9-1e9e-4497-a00d-4504c9ed3d54",
   "metadata": {},
   "source": [
    "### Numpy Assignment ###"
   ]
  },
  {
   "cell_type": "code",
   "execution_count": null,
   "id": "4594ac5f-09d0-44f8-badb-df3030f032f5",
   "metadata": {},
   "outputs": [],
   "source": [
    "#Q1 Explain the purpose and advantages of NumPy in scientific computing and data analysis. How does it\n",
    "#  enhance Python's capabilities for numerical operations?\n",
    "\n",
    "'''\n",
    "NumPy is a fundamental library for scientific computing and data analysis in Python. Its purpose is to provide support for large, multi-dimensional arrays and matrices, along with a collection of mathematical functions to operate on these arrays. Here’s how NumPy enhances Python's capabilities for numerical operations:\n",
    "\n",
    "Purpose of NumPy\n",
    "Efficient Array Handling: NumPy introduces the ndarray (n-dimensional array) object, which is a fast and flexible container for large datasets. It allows for efficient storage and manipulation of numerical data.\n",
    "Mathematical Functions: It provides a wide range of mathematical functions for operations on arrays, including linear algebra operations, statistical functions, and Fourier transforms.\n",
    "Interoperability: NumPy is compatible with a variety of other libraries in the scientific Python ecosystem (like SciPy, pandas, and scikit-learn), enabling smooth integration and data exchange.\n",
    "\n",
    "Advantages of NumPy\n",
    "Performance: NumPy is implemented in C and Fortran, making array operations much faster than Python's built-in lists. This performance boost is achieved through efficient memory management and vectorized operations, which allow operations to be applied to entire arrays at once.\n",
    "Memory Efficiency: NumPy arrays are more compact than Python lists. They use less memory and allow for efficient data storage and retrieval, which is crucial when working with large datasets.\n",
    "Convenient Array Operations: With NumPy, you can perform complex mathematical operations on arrays with simple and concise syntax. For example, element-wise operations, broadcasting, and aggregation functions are straightforward and intuitive.\n",
    "Broadcasting: This powerful feature allows NumPy to perform operations on arrays of different shapes in a way that makes sense, without requiring explicit loops. It simplifies code and improves efficiency when performing operations on arrays with mismatched dimensions.\n",
    "Standardized Data Types: NumPy supports a wide range of data types, including integers, floats, and complex numbers. This standardization ensures consistent behavior and accurate calculations across different operations.\n",
    "Integration with C/C++/Fortran: NumPy provides tools for interfacing with code written in lower-level languages. This allows for the development of performance-critical components in C or Fortran while leveraging NumPy for higher-level operations.\n",
    "Rich Ecosystem: NumPy’s functionality forms the foundation for many other scientific and analytical libraries in Python. Libraries such as pandas (for data manipulation), SciPy (for additional scientific computations), and scikit-learn (for machine learning) all rely on NumPy arrays for their data structures.\n",
    "\n",
    "How NumPy Enhances Python’s Capabilities\n",
    "Vectorization: By replacing explicit loops with vectorized operations, NumPy allows for more readable and efficient code. For instance, adding two arrays element-wise is done with a simple + operator instead of manually iterating through elements.\n",
    "Array Manipulation: NumPy offers robust functions for reshaping, slicing, and aggregating arrays. These capabilities simplify data preprocessing and manipulation tasks in scientific computing.\n",
    "Mathematical Computations: NumPy’s extensive library of mathematical functions, such as trigonometric functions, statistical functions, and linear algebra routines, provides a powerful toolkit for numerical analysis.\n",
    "\n",
    "Overall, NumPy significantly extends Python’s capabilities for numerical computing by providing high-performance array operations, memory-efficient data structures, and a rich set of mathematical functions. Its design allows for concise, efficient, and readable code, making it an essential tool for scientific computing and data analysis.\n",
    "\n",
    "'''"
   ]
  },
  {
   "cell_type": "code",
   "execution_count": null,
   "id": "70d4d678-56b0-403d-83e5-21c957093372",
   "metadata": {},
   "outputs": [],
   "source": [
    "#Q2 Compare and contrast np.mean() and np.average() functions in NumPy. When would you use one over the\n",
    "# other?\n",
    "\n",
    "'''\n",
    "np.mean()\n",
    "Purpose:\n",
    "Computes the arithmetic mean (average) of array elements along a specified axis.\n",
    "Syntax : - numpy.mean(a, axis=None, dtype=None, out=None, keepdims=False)\n",
    "Parameters:\n",
    "a: Input array.\n",
    "axis: Axis or axes along which the mean is computed. Default is None, which means the mean is computed over all elements.\n",
    "dtype: Data type to use for the computation. Default is None.\n",
    "out: Alternative output array in which to place the result.\n",
    "keepdims: If True, the reduced axes are retained in the result as dimensions with size one.\n",
    "\n",
    "np.mean() calculates the sum of the array elements and divides by the number of elements, with no additional weighting or special considerations.\n",
    "\n",
    "np.average()\n",
    "Purpose:\n",
    "Computes the weighted average of array elements, with an optional weighting factor for each element.\n",
    "Syntax :- numpy.average(a, axis=None, weights=None, returned=False)\n",
    "Parameters:\n",
    "a: Input array.\n",
    "axis: Axis or axes along which the average is computed. Default is None.\n",
    "weights: Array of weights with the same shape as a. If provided, the average is weighted according to these weights.\n",
    "returned: If True, the function also returns the sum of the weights.\n",
    "\n",
    "np.average() calculates the weighted average, where you provide a weights array that specifies the importance or frequency of each element. If weights is None, it defaults to calculating the arithmetic mean.\n",
    "\n",
    "'''"
   ]
  },
  {
   "cell_type": "code",
   "execution_count": null,
   "id": "346a4307-abb6-4b59-888c-f40481629e11",
   "metadata": {},
   "outputs": [],
   "source": [
    "#Q3 Describe the methods for reversing a NumPy array along different axes. Provide examples for 1D and 2D arrays.\n",
    "\n",
    "'''\n",
    "1D Array: Reversal is done using slicing with [::-1].\n",
    "2D Array:\n",
    "Reversing Rows (Axis 0): Use [::-1, :] to reverse the rows while keeping columns unchanged.\n",
    "Reversing Columns (Axis 1): Use [:, ::-1] to reverse the columns while keeping rows unchanged.\n",
    "Examples of the same is as follows\n",
    "'''"
   ]
  },
  {
   "cell_type": "code",
   "execution_count": 7,
   "id": "9201bd74-67e9-4835-8a1a-e6257b609a98",
   "metadata": {},
   "outputs": [
    {
     "name": "stdout",
     "output_type": "stream",
     "text": [
      "Original array: [1 2 3 4 5]\n",
      "Reversed array: [5 4 3 2 1]\n"
     ]
    }
   ],
   "source": [
    "import numpy as np\n",
    "\n",
    "arr = np.array([1, 2, 3, 4, 5])\n",
    "\n",
    "reversed_arr = arr[::-1]\n",
    "\n",
    "print(\"Original array:\", arr)\n",
    "print(\"Reversed array:\", reversed_arr)"
   ]
  },
  {
   "cell_type": "code",
   "execution_count": 8,
   "id": "f6dfcd25-572b-4dc4-be1a-21db87de245a",
   "metadata": {},
   "outputs": [
    {
     "name": "stdout",
     "output_type": "stream",
     "text": [
      "Original array:\n",
      " [[1 2 3]\n",
      " [4 5 6]\n",
      " [7 8 9]]\n",
      "Reversed along axis 0 (rows):\n",
      " [[7 8 9]\n",
      " [4 5 6]\n",
      " [1 2 3]]\n",
      "Reversed along axis 1 (columns):\n",
      " [[3 2 1]\n",
      " [6 5 4]\n",
      " [9 8 7]]\n"
     ]
    }
   ],
   "source": [
    "import numpy as np\n",
    "\n",
    "\n",
    "arr_2d = np.array([[1, 2, 3], [4, 5, 6], [7, 8, 9]])\n",
    "\n",
    "reversed_axis0 = arr_2d[::-1, :]\n",
    "\n",
    "reversed_axis1 = arr_2d[:, ::-1]\n",
    "\n",
    "print(\"Original array:\\n\", arr_2d)\n",
    "print(\"Reversed along axis 0 (rows):\\n\", reversed_axis0)\n",
    "print(\"Reversed along axis 1 (columns):\\n\", reversed_axis1)"
   ]
  },
  {
   "cell_type": "code",
   "execution_count": null,
   "id": "6148e9c1-878d-433f-a846-f61dc772644c",
   "metadata": {},
   "outputs": [],
   "source": [
    "#Q5 How can you determine the data type of elements in a NumPy array? Discuss the importance of data types\n",
    "#   in memory management and performance.\n",
    "'''\n",
    "To determine the data type of elements in a NumPy array, use the .dtype attribute of the array. For example:\n",
    "import numpy as np\n",
    "arr = np.array([1, 2, 3])\n",
    "print(arr.dtype)\n",
    "\n",
    "Importance of Data Types\n",
    "Memory Management: Different data types consume different amounts of memory. Choosing the right type (e.g., int8 vs. int64) helps optimize memory usage, which is crucial for handling large datasets efficiently.\n",
    "Performance: Data types affect computational speed. Smaller types (e.g., float32) can lead to faster operations compared to larger types (e.g., float64). This choice can improve performance by enabling more efficient data processing and leveraging optimized low-level operations.\n",
    "\n",
    "Selecting the appropriate data type balances memory usage and performance needs in numerical computations."
   ]
  },
  {
   "cell_type": "code",
   "execution_count": 9,
   "id": "f7b91221-d5f7-4de5-9267-19d2abf9cd99",
   "metadata": {},
   "outputs": [
    {
     "name": "stdout",
     "output_type": "stream",
     "text": [
      "int64\n"
     ]
    }
   ],
   "source": [
    "import numpy as np\n",
    "\n",
    "arr = np.array([1, 2, 3])\n",
    "print(arr.dtype) "
   ]
  },
  {
   "cell_type": "code",
   "execution_count": null,
   "id": "174bde7e-2c4b-42b6-a155-fafacae94377",
   "metadata": {},
   "outputs": [],
   "source": [
    "#Q6 Analyze the performance benefits of NumPy arrays over Python lists for large-scale numerical operations.\n",
    "'''\n",
    "1. Memory Efficiency\n",
    "Fixed Size and Type: NumPy arrays store data in contiguous blocks of memory with a fixed size and type for each element. This fixed size and type allow NumPy to use less overhead and access memory more efficiently compared to Python lists, which store objects of varying sizes and types and have additional overhead for each element.\n",
    "Compact Storage: NumPy arrays use a more compact memory layout, which reduces the memory footprint compared to Python lists that store references to Python objects, each of which has additional overhead.\n",
    "\n",
    "2. Performance Optimization\n",
    "Vectorization: NumPy employs vectorized operations, which allow operations to be applied to entire arrays at once. This reduces the need for explicit loops and leverages optimized low-level implementations in C and Fortran. In contrast, Python lists require loops and explicit element-wise operations, which are slower.\n",
    "Broadcasting: NumPy supports broadcasting, a technique that allows operations on arrays of different shapes without requiring explicit looping or copying. This enables efficient computation by applying operations across arrays in a memory-efficient manner.\n",
    "\n",
    "3. Efficient Computation\n",
    "Low-Level Implementation: NumPy operations are implemented in C and Fortran, which are much faster than the Python interpreter. This low-level implementation ensures that operations on NumPy arrays are optimized for performance, leveraging efficient algorithms and memory access patterns.\n",
    "Pre-compiled Functions: Many mathematical and statistical functions in NumPy are pre-compiled and optimized, providing faster execution compared to equivalent Python code that would require manual implementation of algorithms.\n",
    "\n",
    "4. Parallelization\n",
    "Underlying Libraries: NumPy often uses underlying libraries like BLAS (Basic Linear Algebra Subprograms) and LAPACK (Linear Algebra PACKage) that are optimized for performance and may take advantage of multi-core processors to parallelize computations.\n"
   ]
  },
  {
   "cell_type": "code",
   "execution_count": 10,
   "id": "79755871-346e-4c26-9c8e-a3ecad6093ff",
   "metadata": {},
   "outputs": [
    {
     "name": "stdout",
     "output_type": "stream",
     "text": [
      "Python list operation time: 0.3497123718261719\n"
     ]
    }
   ],
   "source": [
    "#Python List operation\n",
    "import time\n",
    "\n",
    "# Large-scale operation on a Python list\n",
    "data = list(range(1000000))\n",
    "\n",
    "start_time = time.time()\n",
    "squared = [x**2 for x in data]  # Using a list comprehension\n",
    "end_time = time.time()\n",
    "\n",
    "print(\"Python list operation time:\", end_time - start_time)"
   ]
  },
  {
   "cell_type": "code",
   "execution_count": 11,
   "id": "4567edcb-8d16-47f2-ab88-fc21033866ee",
   "metadata": {},
   "outputs": [
    {
     "name": "stdout",
     "output_type": "stream",
     "text": [
      "NumPy array operation time: 0.0032553672790527344\n"
     ]
    }
   ],
   "source": [
    "#Python Array operation\n",
    "import numpy as np\n",
    "import time\n",
    "\n",
    "# Large-scale operation on a NumPy array\n",
    "data_np = np.arange(1000000)\n",
    "\n",
    "start_time = time.time()\n",
    "squared_np = data_np**2  # Using a vectorized operation\n",
    "end_time = time.time()\n",
    "\n",
    "print(\"NumPy array operation time:\", end_time - start_time)"
   ]
  },
  {
   "cell_type": "code",
   "execution_count": null,
   "id": "e82cc9cc-d22e-4a77-9cb4-837784cf6c72",
   "metadata": {},
   "outputs": [],
   "source": [
    "#Q7 Compare vstack() and hstack() functions in NumPy. Provide examples demonstrating their usage and output.\n",
    "\n",
    "'''\n",
    "In NumPy, vstack() and hstack() are functions used for stacking arrays along different axes. \n",
    "They are useful for combining arrays into a larger array in a vertical or horizontal direction. \n",
    "numpy.vstack()\n",
    "Purpose: Stack arrays in sequence vertically (row-wise).\n",
    "Operation: Combines arrays along the vertical axis (axis 0). The arrays need to have the same shape along all but the first axis.\n",
    "\n",
    "numpy.hstack()\n",
    "Purpose: Stack arrays in sequence horizontally (column-wise).\n",
    "Operation: Combines arrays along the horizontal axis (axis 1). The arrays need to have the same shape along all but the second axis.\n",
    "\n",
    "Examples of both are as follows :\n",
    "'''\n"
   ]
  },
  {
   "cell_type": "code",
   "execution_count": 14,
   "id": "f6cf8c20-4c06-4ba5-9c11-f5b95d9cd656",
   "metadata": {},
   "outputs": [
    {
     "name": "stdout",
     "output_type": "stream",
     "text": [
      "Array 1:\n",
      " [[1 2 3]\n",
      " [4 5 6]]\n",
      "Array 2:\n",
      " [[ 7  8  9]\n",
      " [10 11 12]]\n",
      "Stacked Vertically using vstack :\n",
      " [[ 1  2  3]\n",
      " [ 4  5  6]\n",
      " [ 7  8  9]\n",
      " [10 11 12]]\n",
      "Stacked Horizontally using hstack :\n",
      " [[ 1  2  3  7  8  9]\n",
      " [ 4  5  6 10 11 12]]\n"
     ]
    }
   ],
   "source": [
    "import numpy as np\n",
    "\n",
    "# Define two 2D arrays\n",
    "arr1 = np.array([[1, 2, 3], [4, 5, 6]])\n",
    "arr2 = np.array([[7, 8, 9], [10, 11, 12]])\n",
    "\n",
    "# Stack arrays vertically\n",
    "result_vstack = np.vstack((arr1, arr2))\n",
    "result_hstack = np.hstack((arr1, arr2))\n",
    "\n",
    "print(\"Array 1:\\n\", arr1)\n",
    "print(\"Array 2:\\n\", arr2)\n",
    "print(\"Stacked Vertically using vstack :\\n\", result_vstack)\n",
    "print(\"Stacked Horizontally using hstack :\\n\", result_hstack)"
   ]
  },
  {
   "cell_type": "code",
   "execution_count": null,
   "id": "f151c68f-d4ba-489b-a3b1-2df4459d726f",
   "metadata": {},
   "outputs": [],
   "source": [
    "#Q8  Explain the differences between fliplr() and flipud() methods in NumPy, including their effects on various array dimensions.\n",
    "'''\n",
    "The fliplr() and flipud() methods in NumPy are used to reverse the order of elements in arrays along specific axes.\n",
    "\n",
    "numpy.fliplr()\n",
    "Purpose: Flip (reverse) the elements of an array along the left-right (horizontal) axis.\n",
    "Operation: Reverses the order of columns in each row.\n",
    "\n",
    "Effect on Various Dimensions:\n",
    "1D Arrays: fliplr() is not applicable to 1D arrays. It will raise an error if applied to a 1D array.\n",
    "2D Arrays: Reverses the columns within each row. This is effectively a horizontal flip.\n",
    "\n",
    "numpy.flipud()\n",
    "Purpose: Flip (reverse) the elements of an array along the up-down (vertical) axis.\n",
    "Operation: Reverses the order of rows.\n",
    "\n",
    "Effect on Various Dimensions:\n",
    "\n",
    "1D Arrays: flipud() is not applicable to 1D arrays. It will raise an error if applied to a 1D array.\n",
    "2D Arrays: Reverses the rows of the array. This is effectively a vertical flip.\n",
    "\n",
    "Examples is as follows :\n",
    "'''"
   ]
  },
  {
   "cell_type": "code",
   "execution_count": 16,
   "id": "554f82de-df3c-47ea-b063-c9e015c2fd7c",
   "metadata": {},
   "outputs": [
    {
     "name": "stdout",
     "output_type": "stream",
     "text": [
      "Original array:\n",
      " [[1 2 3]\n",
      " [4 5 6]]\n",
      "After fliplr:\n",
      " [[3 2 1]\n",
      " [6 5 4]]\n",
      "After flipud:\n",
      " [[4 5 6]\n",
      " [1 2 3]]\n"
     ]
    }
   ],
   "source": [
    "import numpy as np\n",
    "\n",
    "# Define a 2D array\n",
    "arr_2d = np.array([[1, 2, 3], [4, 5, 6]])\n",
    "\n",
    "result_fliplr = np.fliplr(arr_2d)\n",
    "result_flipud = np.flipud(arr_2d)\n",
    "\n",
    "print(\"Original array:\\n\", arr_2d)\n",
    "print(\"After fliplr:\\n\", result_fliplr)\n",
    "print(\"After flipud:\\n\", result_flipud)"
   ]
  },
  {
   "cell_type": "code",
   "execution_count": null,
   "id": "e2d7c70a-d169-4187-a049-17a509617f2f",
   "metadata": {},
   "outputs": [],
   "source": [
    "#Q9 Discuss the functionality of the array_split() method in NumPy. How does it handle uneven splits?\n",
    "\n",
    "'''\n",
    "The numpy.array_split() method is a versatile function for dividing an array into multiple sub-arrays. It is particularly useful when you need to split large arrays into smaller chunks for processing or analysis. \n",
    "\n",
    "Functionality of array_split()\n",
    "Purpose:\n",
    "To split an array into multiple sub-arrays along a specified axis.\n",
    "Syntax: numpy.array_split(ary, indices_or_sections, axis=0)\n",
    "\n",
    "Handling Uneven Splits\n",
    "When the number of sections into which the array is to be split is not evenly divisible by the length of the array along the specified axis, array_split() handles this gracefully:\n",
    "Integer Argument:\n",
    "When you provide an integer to indices_or_sections, array_split() will divide the array into the specified number of sub-arrays. If the array size along the specified axis cannot be divided evenly, the sub-arrays will differ in size. The function ensures that the size difference between the largest and smallest sub-arrays is at most one element.\n",
    "1D Array of Indices:\n",
    "If you provide a list of indices, array_split() will split the array at those indices. The resulting sub-arrays will be determined by these index positions.\n",
    "'''"
   ]
  },
  {
   "cell_type": "code",
   "execution_count": 9,
   "id": "921308de-a23e-4e36-a940-04a5c6eaa206",
   "metadata": {},
   "outputs": [
    {
     "name": "stdout",
     "output_type": "stream",
     "text": [
      "Original array: [0 1 2 3 4 5 6 7 8 9]\n",
      "Split into 3 sections: [array([0, 1, 2, 3]), array([4, 5, 6]), array([7, 8, 9])]\n",
      "Split at indices [3, 6]: [array([0, 1]), array([2, 3]), array([4, 5]), array([6, 7, 8, 9])]\n"
     ]
    }
   ],
   "source": [
    "import numpy as np\n",
    "\n",
    "arr = np.arange(10)  # array([0, 1, 2, 3, 4, 5, 6, 7, 8, 9])\n",
    "\n",
    "result = np.array_split(arr, 3)\n",
    "result1 = np.array_split(arr, [2,4, 6])\n",
    "\n",
    "print(\"Original array:\", arr)\n",
    "print(\"Split into 3 sections:\", result)\n",
    "print(\"Split at indices [3, 6]:\", result1)"
   ]
  },
  {
   "cell_type": "code",
   "execution_count": null,
   "id": "9af86e29-3a08-43f1-acc0-6f042492690b",
   "metadata": {},
   "outputs": [],
   "source": [
    "#10 Explain the concepts of vectorization and broadcasting in NumPy. How do they contribute to efficient array operations?\n",
    "'''\n",
    "Vectorization\n",
    "Concept:\n",
    "Vectorization refers to the process of replacing explicit loops with array operations that apply functions or operations to entire arrays at once. Instead of iterating over elements one by one using loops, vectorized operations are applied in a way that utilizes low-level optimizations.\n",
    "\n",
    "Benefits:\n",
    "Performance: Vectorized operations are implemented in low-level languages like C or Fortran, which can be optimized for performance and run much faster than equivalent Python loops.\n",
    "Code Simplicity: Code becomes more concise and easier to read, as operations are expressed in a more natural mathematical form.\n",
    "Avoids Python Overhead: By operating on whole arrays at once, vectorized operations reduce the overhead of Python loops and function calls.\n",
    "\n",
    "Broadcasting\n",
    "Concept:\n",
    "Broadcasting is a technique that allows NumPy to perform arithmetic operations on arrays of different shapes in a way that extends the smaller array to match the shape of the larger one without actually replicating data. This allows for operations on arrays with different dimensions.\n",
    "\n",
    "Rules of Broadcasting:\n",
    "If arrays have different ranks (number of dimensions), the shape of the smaller array is padded with ones on the left side until both shapes are the same.\n",
    "Arrays are then compared element-wise. For each dimension, the sizes must either be the same or one of them must be 1.\n",
    "If a dimension of size 1 is encountered, it is broadcasted (stretched) to match the other dimension’s size.\n",
    "\n",
    "Benefits:\n",
    "Efficiency: Broadcasting avoids the need for explicit loops and data replication, leading to more memory-efficient and faster computations.\n",
    "Flexibility: Allows for operations on arrays of different shapes and dimensions without requiring reshaping or manual manipulation.\n",
    "\n",
    "Examples are as follows :\n",
    "'''"
   ]
  },
  {
   "cell_type": "code",
   "execution_count": 11,
   "id": "8fe5aac0-fca1-4187-a125-95fa7771a3c8",
   "metadata": {},
   "outputs": [
    {
     "name": "stdout",
     "output_type": "stream",
     "text": [
      "Result of vectorized addition: [ 6  8 10 12]\n",
      "Original 2D array:\n",
      " [[1 2 3]\n",
      " [4 5 6]]\n",
      "1D array:\n",
      " [10 20 30]\n",
      "Result after broadcasting:\n",
      " [[11 22 33]\n",
      " [14 25 36]]\n"
     ]
    }
   ],
   "source": [
    "import numpy as np\n",
    "\n",
    "#Vectorization\n",
    "a = np.array([1, 2, 3, 4])\n",
    "b = np.array([5, 6, 7, 8])\n",
    "\n",
    "result = a + b\n",
    "\n",
    "print(\"Result of vectorized addition:\", result)\n",
    "\n",
    "#broadcasting\n",
    "arr_2d = np.array([[1, 2, 3], [4, 5, 6]])\n",
    "arr_1d = np.array([10, 20, 30])\n",
    "\n",
    "result = arr_2d + arr_1d\n",
    "\n",
    "print(\"Original 2D array:\\n\", arr_2d)\n",
    "print(\"1D array:\\n\", arr_1d)\n",
    "print(\"Result after broadcasting:\\n\", result)"
   ]
  },
  {
   "cell_type": "code",
   "execution_count": null,
   "id": "82d1559a-252f-4b42-850e-6fea3cbbc53a",
   "metadata": {},
   "outputs": [],
   "source": [
    "\n",
    "\n",
    "\n"
   ]
  },
  {
   "cell_type": "markdown",
   "id": "07d77699-6751-4b6e-aa3a-2e762dac5333",
   "metadata": {},
   "source": [
    "## Practical Questions ##"
   ]
  },
  {
   "cell_type": "code",
   "execution_count": 16,
   "id": "c708e408-2b6d-4e9e-8d4f-e3d1f171bcb3",
   "metadata": {},
   "outputs": [
    {
     "name": "stdout",
     "output_type": "stream",
     "text": [
      " Original array :\n",
      " [[60 32 26]\n",
      " [43 22 40]\n",
      " [66 10 57]]\n",
      " Transposed array :\n",
      " [[60 43 66]\n",
      " [32 22 10]\n",
      " [26 40 57]]\n"
     ]
    }
   ],
   "source": [
    "# 1. Create a 3x3 NumPy array with random integers between 1 and 100. Then, interchange its rows and columns\n",
    "\n",
    "import numpy as np\n",
    "arr=np.random.randint(1,100,(3,3))\n",
    "print(f\" Original array :\\n {arr}\")\n",
    "print(f\" Transposed array :\\n {arr.T}\")"
   ]
  },
  {
   "cell_type": "code",
   "execution_count": 22,
   "id": "df19f677-7a0e-4434-884a-205645f838e5",
   "metadata": {},
   "outputs": [
    {
     "name": "stdout",
     "output_type": "stream",
     "text": [
      "Original arraya : \n",
      " [0 1 2 3 4 5 6 7 8 9]\n",
      "Array with 2x5 size :\n",
      " [[0 1 2 3 4]\n",
      " [5 6 7 8 9]]\n",
      "Array with 5x2 size :\n",
      " [[0 1]\n",
      " [2 3]\n",
      " [4 5]\n",
      " [6 7]\n",
      " [8 9]]\n"
     ]
    }
   ],
   "source": [
    "# 2. Generate a 1D NumPy array with 10 elements. Reshape it into a 2x5 array, then into a 5x2 array.\n",
    "\n",
    "import numpy as np\n",
    "arr1=np.arange(10)\n",
    "print(f\"Original array : \\n {arr1}\")\n",
    "\n",
    "print(f\"Array with 2x5 size :\\n {arr1.reshape(2,5)}\")\n",
    "print(f\"Array with 5x2 size :\\n {arr1.reshape(5,2)}\")\n"
   ]
  },
  {
   "cell_type": "code",
   "execution_count": 30,
   "id": "617a880f-f732-4ccf-8bb9-7a66a5f20d8a",
   "metadata": {},
   "outputs": [
    {
     "name": "stdout",
     "output_type": "stream",
     "text": [
      "Original 4x4 Array:\n",
      " [[0.6502521  0.41059869 0.91971631 0.06673692]\n",
      " [0.79449254 0.95180654 0.64139426 0.79307491]\n",
      " [0.80178915 0.53592664 0.2184583  0.04774569]\n",
      " [0.1267599  0.452806   0.54638946 0.58450088]]\n",
      "\n",
      "6x6 Array with border of zeros:\n",
      " [[0.         0.         0.         0.         0.         0.        ]\n",
      " [0.         0.6502521  0.41059869 0.91971631 0.06673692 0.        ]\n",
      " [0.         0.79449254 0.95180654 0.64139426 0.79307491 0.        ]\n",
      " [0.         0.80178915 0.53592664 0.2184583  0.04774569 0.        ]\n",
      " [0.         0.1267599  0.452806   0.54638946 0.58450088 0.        ]\n",
      " [0.         0.         0.         0.         0.         0.        ]]\n"
     ]
    }
   ],
   "source": [
    "# 3. Create a 4x4 NumPy array with random float values. Add a border of zeros around it, resulting in a 6x6 array\n",
    "import numpy as np\n",
    "\n",
    "array_4x4 = np.random.rand(4, 4)\n",
    "\n",
    "print(\"Original 4x4 Array:\\n\", array_4x4)\n",
    "\n",
    "array_6x6 = np.pad(array_4x4, pad_width=1, mode='constant', constant_values=0)\n",
    "\n",
    "print(\"\\n6x6 Array with border of zeros:\\n\", array_6x6)"
   ]
  },
  {
   "cell_type": "code",
   "execution_count": 35,
   "id": "2fedbea8-0597-4929-8a22-02a11c648c81",
   "metadata": {},
   "outputs": [
    {
     "data": {
      "text/plain": [
       "array([10, 15, 20, 25, 30, 35, 40, 45, 50, 55, 60])"
      ]
     },
     "execution_count": 35,
     "metadata": {},
     "output_type": "execute_result"
    }
   ],
   "source": [
    "# 4 Using NumPy, create an array of integers from 10 to 60 with a step of 5.\n",
    "import numpy as np\n",
    "arr3=np.arange(10,61,5)\n",
    "arr3"
   ]
  },
  {
   "cell_type": "code",
   "execution_count": 36,
   "id": "91e7b519-7a73-4705-b6a2-2d771fd855c9",
   "metadata": {},
   "outputs": [
    {
     "name": "stdout",
     "output_type": "stream",
     "text": [
      "Original Array:\n",
      " ['python' 'numpy' 'pandas']\n",
      "\n",
      "Uppercase Array:\n",
      " ['PYTHON' 'NUMPY' 'PANDAS']\n",
      "\n",
      "Lowercase Array:\n",
      " ['python' 'numpy' 'pandas']\n",
      "\n",
      "Titlecase Array:\n",
      " ['Python' 'Numpy' 'Pandas']\n",
      "\n",
      "Capitalize Array:\n",
      " ['Python' 'Numpy' 'Pandas']\n"
     ]
    }
   ],
   "source": [
    "# 5. Create a NumPy array of strings ['python', 'numpy', 'pandas']. Apply different case transformations(uppercase, lowercase, title case, etc.) to each element.\n",
    "\n",
    "import numpy as np\n",
    "\n",
    "# Create a NumPy array of strings\n",
    "array = np.array(['python', 'numpy', 'pandas'])\n",
    "\n",
    "# Apply different case transformations\n",
    "uppercase_array = np.char.upper(array)\n",
    "lowercase_array = np.char.lower(array)\n",
    "titlecase_array = np.char.title(array)\n",
    "capitalize_array = np.char.capitalize(array)\n",
    "\n",
    "print(\"Original Array:\\n\", array)\n",
    "print(\"\\nUppercase Array:\\n\", uppercase_array)\n",
    "print(\"\\nLowercase Array:\\n\", lowercase_array)\n",
    "print(\"\\nTitlecase Array:\\n\", titlecase_array)\n",
    "print(\"\\nCapitalize Array:\\n\", capitalize_array)"
   ]
  },
  {
   "cell_type": "code",
   "execution_count": 37,
   "id": "a8f040ec-ba0d-4881-8ea3-4393377972a2",
   "metadata": {},
   "outputs": [
    {
     "name": "stdout",
     "output_type": "stream",
     "text": [
      "Original Array:\n",
      " ['python' 'numpy' 'pandas']\n",
      "\n",
      "Array with spaces between characters:\n",
      " ['p y t h o n' 'n u m p y' 'p a n d a s']\n"
     ]
    }
   ],
   "source": [
    "# 6 Generate a NumPy array of words. Insert a space between each character of every word in the array.\n",
    "\n",
    "import numpy as np\n",
    "\n",
    "# Create a NumPy array of words\n",
    "words_array = np.array(['python', 'numpy', 'pandas'])\n",
    "\n",
    "# Insert a space between each character of every word\n",
    "spaced_array = np.char.join(' ', words_array)\n",
    "\n",
    "print(\"Original Array:\\n\", words_array)\n",
    "print(\"\\nArray with spaces between characters:\\n\", spaced_array)"
   ]
  },
  {
   "cell_type": "code",
   "execution_count": 38,
   "id": "ef4f6e26-a588-46e3-90cc-113d2e3b77c5",
   "metadata": {},
   "outputs": [
    {
     "name": "stdout",
     "output_type": "stream",
     "text": [
      "Array 1:\n",
      " [[1 2 3]\n",
      " [4 5 6]]\n",
      "\n",
      "Array 2:\n",
      " [[ 7  8  9]\n",
      " [10 11 12]]\n",
      "\n",
      "Element-wise Addition:\n",
      " [[ 8 10 12]\n",
      " [14 16 18]]\n",
      "\n",
      "Element-wise Subtraction:\n",
      " [[-6 -6 -6]\n",
      " [-6 -6 -6]]\n",
      "\n",
      "Element-wise Multiplication:\n",
      " [[ 7 16 27]\n",
      " [40 55 72]]\n",
      "\n",
      "Element-wise Division:\n",
      " [[0.14285714 0.25       0.33333333]\n",
      " [0.4        0.45454545 0.5       ]]\n"
     ]
    }
   ],
   "source": [
    "# 7 Create two 2D NumPy arrays and perform element-wise addition, subtraction, multiplication, and division.\n",
    "\n",
    "import numpy as np\n",
    "\n",
    "\n",
    "array1 = np.array([[1, 2, 3], [4, 5, 6]])\n",
    "array2 = np.array([[7, 8, 9], [10, 11, 12]])\n",
    "\n",
    "addition_result = array1 + array2\n",
    "subtraction_result = array1 - array2\n",
    "multiplication_result = array1 * array2\n",
    "division_result = array1 / array2\n",
    "\n",
    "print(\"Array 1:\\n\", array1)\n",
    "print(\"\\nArray 2:\\n\", array2)\n",
    "print(\"\\nElement-wise Addition:\\n\", addition_result)\n",
    "print(\"\\nElement-wise Subtraction:\\n\", subtraction_result)\n",
    "print(\"\\nElement-wise Multiplication:\\n\", multiplication_result)\n",
    "print(\"\\nElement-wise Division:\\n\", division_result)"
   ]
  },
  {
   "cell_type": "code",
   "execution_count": 40,
   "id": "37d37b70-4b5b-433a-b859-bc167bac729a",
   "metadata": {},
   "outputs": [
    {
     "name": "stdout",
     "output_type": "stream",
     "text": [
      "5x5 Identity Matrix:\n",
      " [[1 0 0 0 0]\n",
      " [0 1 0 0 0]\n",
      " [0 0 1 0 0]\n",
      " [0 0 0 1 0]\n",
      " [0 0 0 0 1]]\n",
      "\n",
      "Diagonal Elements:\n",
      " [1 1 1 1 1]\n"
     ]
    }
   ],
   "source": [
    "# 8 Use NumPy to create a 5x5 identity matrix, then extract its diagonal elements.\n",
    "\n",
    "import numpy as np\n",
    "\n",
    "# Step 1: Create a 5x5 identity matrix\n",
    "identity_matrix = np.eye(5,dtype=\"int\")\n",
    "\n",
    "print(\"5x5 Identity Matrix:\\n\", identity_matrix)\n",
    "\n",
    "diagonal_elements = identity_matrix.diagonal()\n",
    "print(\"\\nDiagonal Elements:\\n\", diagonal_elements)"
   ]
  },
  {
   "cell_type": "code",
   "execution_count": 41,
   "id": "6df142b1-a2d0-414d-b87b-4d2d1da2efa0",
   "metadata": {},
   "outputs": [
    {
     "name": "stdout",
     "output_type": "stream",
     "text": [
      "Original Array:\n",
      " [363 122 863  90 223 426 253 953 803 962 739 608 582 650 298 981 681 503\n",
      "  48 458 401 958 408 228 823  53 143 837 721 836 238  36 656 828 576 689\n",
      " 424 289 560 130 642   7 938 758 632 694 832  75 150 342 791   5  31 800\n",
      " 587 901 329 758 349 991  14 575 997 563 947 610 394 247  30 183  11 284\n",
      " 581 599 414 311 404 295 364 119 781 947 235 836 603 909 664 591 535 574\n",
      " 855 560 497 459 528 142 735 343 669 560]\n",
      "\n",
      "Prime Numbers in the Array:\n",
      " [863 223 953 739 503 401 823  53   7   5  31 587 349 991 997 563 947  11\n",
      " 599 311 947]\n"
     ]
    }
   ],
   "source": [
    "# 9  Generate a NumPy array of 100 random integers between 0 and 1000. Find and display all prime numbers in this array.\n",
    "\n",
    "import numpy as np\n",
    "\n",
    "# Step 1: Generate a NumPy array of 100 random integers between 0 and 1000\n",
    "array = np.random.randint(0, 1000, size=100)\n",
    "\n",
    "print(\"Original Array:\\n\", array)\n",
    "\n",
    "def is_prime(n):\n",
    "    if n <= 1:\n",
    "        return False\n",
    "    if n <= 3:\n",
    "        return True\n",
    "    if n % 2 == 0 or n % 3 == 0:\n",
    "        return False\n",
    "    i = 5\n",
    "    while i * i <= n:\n",
    "        if n % i == 0 or n % (i + 2) == 0:\n",
    "            return False\n",
    "        i += 6\n",
    "    return True\n",
    "\n",
    "primes = np.array([num for num in array if is_prime(num)])\n",
    "\n",
    "print(\"\\nPrime Numbers in the Array:\\n\", primes)"
   ]
  },
  {
   "cell_type": "code",
   "execution_count": 51,
   "id": "bad6ac99-741f-4461-abe0-186e729c6a6c",
   "metadata": {},
   "outputs": [
    {
     "name": "stdout",
     "output_type": "stream",
     "text": [
      "Daily Temperatures for the Month:\n",
      " [24 25 23 29 22 29 28 24 26 25 27 27 28 29 22 28 25 23 24 24 20 29 25 21\n",
      " 21 23 25 23]\n",
      "\n",
      "Weekly Temperatures:\n",
      " [[24 25 23 29 22 29 28]\n",
      " [24 26 25 27 27 28 29]\n",
      " [22 28 25 23 24 24 20]\n",
      " [29 25 21 21 23 25 23]]\n",
      "\n",
      "Weekly Averages:\n",
      " [25.71428571 26.57142857 23.71428571 23.85714286]\n"
     ]
    }
   ],
   "source": [
    "# 10 Create a NumPy array representing daily temperatures for a month. Calculate and display the weekly averages.\n",
    "\n",
    "import numpy as np\n",
    "\n",
    "daily_temperatures = np.random.randint(20, 30, size=28)\n",
    "\n",
    "print(\"Daily Temperatures for the Month:\\n\", daily_temperatures)\n",
    "\n",
    "weekly_temperatures = daily_temperatures.reshape(4, 7)\n",
    "\n",
    "print(\"\\nWeekly Temperatures:\\n\", weekly_temperatures)\n",
    "\n",
    "weekly_averages = np.mean(weekly_temperatures, axis=1)\n",
    "\n",
    "print(\"\\nWeekly Averages:\\n\", weekly_averages)"
   ]
  },
  {
   "cell_type": "code",
   "execution_count": null,
   "id": "7fc5fcf2-f076-4bf2-ab6c-24b369372cd8",
   "metadata": {},
   "outputs": [],
   "source": []
  },
  {
   "cell_type": "code",
   "execution_count": null,
   "id": "3adac513-522a-4f39-9d75-ca0910cf74fa",
   "metadata": {},
   "outputs": [],
   "source": []
  }
 ],
 "metadata": {
  "kernelspec": {
   "display_name": "Python 3 (ipykernel)",
   "language": "python",
   "name": "python3"
  },
  "language_info": {
   "codemirror_mode": {
    "name": "ipython",
    "version": 3
   },
   "file_extension": ".py",
   "mimetype": "text/x-python",
   "name": "python",
   "nbconvert_exporter": "python",
   "pygments_lexer": "ipython3",
   "version": "3.10.8"
  }
 },
 "nbformat": 4,
 "nbformat_minor": 5
}
